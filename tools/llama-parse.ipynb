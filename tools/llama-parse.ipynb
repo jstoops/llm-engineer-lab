{
 "cells": [
  {
   "cell_type": "markdown",
   "metadata": {},
   "source": [
    "# Data Preparation for Training RAG Agent\n",
    "\n",
    "Data preparation for PDFs, Docs, CSV, etc. for RAG with LlamaIndex & [LlamaParse](https://github.com/run-llama/llama_cloud_services/blob/main/parse.md).\n",
    "\n",
    "## Install LlamaParse"
   ]
  },
  {
   "cell_type": "code",
   "execution_count": null,
   "metadata": {
    "colab": {
     "base_uri": "https://localhost:8080/"
    },
    "executionInfo": {
     "elapsed": 13452,
     "status": "ok",
     "timestamp": 1742694570089,
     "user": {
      "displayName": "John Stoops",
      "userId": "10201708003973892597"
     },
     "user_tz": 600
    },
    "id": "pHovlqd3zWV1",
    "outputId": "70c8ef8b-fb17-4613-d150-a296f3e9da30"
   },
   "outputs": [],
   "source": [
    "%pip install llama-parse"
   ]
  },
  {
   "cell_type": "markdown",
   "metadata": {},
   "source": [
    "## Add PDF to convert to markdown\n",
    "\n",
    "Copy documents to be converted to the `/content` folder."
   ]
  },
  {
   "cell_type": "markdown",
   "metadata": {
    "colab": {
     "base_uri": "https://localhost:8080/"
    },
    "executionInfo": {
     "elapsed": 307,
     "status": "ok",
     "timestamp": 1742694598887,
     "user": {
      "displayName": "John Stoops",
      "userId": "10201708003973892597"
     },
     "user_tz": 600
    },
    "id": "x3Y2nAcBzWxz",
    "outputId": "35b8bc39-1f51-4db8-bd2e-f068ade53a66"
   },
   "source": [
    "## Patch asyncio to allow nested event loops"
   ]
  },
  {
   "cell_type": "code",
   "execution_count": null,
   "metadata": {
    "executionInfo": {
     "elapsed": 7,
     "status": "ok",
     "timestamp": 1742694752855,
     "user": {
      "displayName": "John Stoops",
      "userId": "10201708003973892597"
     },
     "user_tz": 600
    },
    "id": "e5uAizOEzcVT"
   },
   "outputs": [],
   "source": [
    "import nest_asyncio\n",
    "\n",
    "nest_asyncio.apply()"
   ]
  },
  {
   "cell_type": "markdown",
   "metadata": {},
   "source": [
    "## Set LlamaCloud API key"
   ]
  },
  {
   "cell_type": "code",
   "execution_count": null,
   "metadata": {
    "executionInfo": {
     "elapsed": 4,
     "status": "ok",
     "timestamp": 1742694933127,
     "user": {
      "displayName": "John Stoops",
      "userId": "10201708003973892597"
     },
     "user_tz": 600
    },
    "id": "FDym7oMPzmwL"
   },
   "outputs": [],
   "source": [
    "import os\n",
    "from dotenv import load_dotenv\n",
    "\n",
    "load_dotenv()\n",
    "\n",
    "llama_api_key = os.getenv('LLAMA_CLOUD_API_KEY')\n",
    "\n",
    "if llama_api_key:\n",
    "    print(f\"Llama API Key exists and begins {llama_api_key[:4]}\")\n",
    "else:\n",
    "    print(\"Llama API Key not set\")\n"
   ]
  },
  {
   "cell_type": "markdown",
   "metadata": {},
   "source": [
    "## Convert PDF document to markdown"
   ]
  },
  {
   "cell_type": "code",
   "execution_count": null,
   "metadata": {
    "colab": {
     "base_uri": "https://localhost:8080/"
    },
    "executionInfo": {
     "elapsed": 5556,
     "status": "ok",
     "timestamp": 1742696051703,
     "user": {
      "displayName": "John Stoops",
      "userId": "10201708003973892597"
     },
     "user_tz": 600
    },
    "id": "aYIUKOJ_z0eY",
    "outputId": "2ef0be42-ef22-4e26-d839-1ce6a3923ea1"
   },
   "outputs": [],
   "source": [
    "from llama_parse import LlamaParse\n",
    "\n",
    "document = LlamaParse(api_key=llama_api_key,result_type=\"markdown\").load_data(\"../content/apple_10k.pdf\")"
   ]
  },
  {
   "cell_type": "code",
   "execution_count": null,
   "metadata": {
    "colab": {
     "base_uri": "https://localhost:8080/"
    },
    "executionInfo": {
     "elapsed": 248,
     "status": "ok",
     "timestamp": 1742696059201,
     "user": {
      "displayName": "John Stoops",
      "userId": "10201708003973892597"
     },
     "user_tz": 600
    },
    "id": "przLOnGO0Ygf",
    "outputId": "6b8ffdaf-4e1d-4139-b315-dea7cd9217f3"
   },
   "outputs": [],
   "source": [
    "document"
   ]
  },
  {
   "cell_type": "code",
   "execution_count": null,
   "metadata": {
    "colab": {
     "base_uri": "https://localhost:8080/"
    },
    "executionInfo": {
     "elapsed": 6,
     "status": "ok",
     "timestamp": 1742696182998,
     "user": {
      "displayName": "John Stoops",
      "userId": "10201708003973892597"
     },
     "user_tz": 600
    },
    "id": "5HZSRMmSzzE_",
    "outputId": "e68512fa-7109-47e9-c2e5-465f7d39d122"
   },
   "outputs": [],
   "source": [
    "# check chunks of content\n",
    "print(document[50].text[:1000])"
   ]
  },
  {
   "cell_type": "markdown",
   "metadata": {},
   "source": [
    "## Save the text as a markdown file"
   ]
  },
  {
   "cell_type": "code",
   "execution_count": null,
   "metadata": {
    "executionInfo": {
     "elapsed": 41,
     "status": "ok",
     "timestamp": 1742696390529,
     "user": {
      "displayName": "John Stoops",
      "userId": "10201708003973892597"
     },
     "user_tz": 600
    },
    "id": "KeaGJ-781BJE"
   },
   "outputs": [],
   "source": [
    "file_name = \"../content/apple_10k.md\"\n",
    "with open(file_name, 'w', encoding=\"utf-8\") as file:\n",
    "  for doc in document:\n",
    "    file.write(doc.text)"
   ]
  },
  {
   "cell_type": "markdown",
   "metadata": {},
   "source": [
    "## Make a summary of the document in markdown to remove the fluff so better for LLM"
   ]
  },
  {
   "cell_type": "code",
   "execution_count": null,
   "metadata": {
    "colab": {
     "base_uri": "https://localhost:8080/"
    },
    "executionInfo": {
     "elapsed": 4969,
     "status": "ok",
     "timestamp": 1742696533715,
     "user": {
      "displayName": "John Stoops",
      "userId": "10201708003973892597"
     },
     "user_tz": 600
    },
    "id": "ud2-XzHP1ch2",
    "outputId": "1a138937-10e4-4c76-9f01-6bd588c05470"
   },
   "outputs": [],
   "source": [
    "documents_with_instruction = LlamaParse(\n",
    "    result_type=\"markdown\",\n",
    "    parsing_instruction=\"\"\"\n",
    "    This is the Apple annual report. make a summary\n",
    "    \"\"\"\n",
    "    ).load_data(\"../content/apple_10k.pdf\")"
   ]
  },
  {
   "cell_type": "code",
   "execution_count": null,
   "metadata": {
    "executionInfo": {
     "elapsed": 33,
     "status": "ok",
     "timestamp": 1742696632317,
     "user": {
      "displayName": "John Stoops",
      "userId": "10201708003973892597"
     },
     "user_tz": 600
    },
    "id": "RrLwiRVs1Io6"
   },
   "outputs": [],
   "source": [
    "file_name = \"../content/apple_10k_instructions.md\"\n",
    "with open(file_name, 'w') as file:\n",
    "  for doc in documents_with_instruction:\n",
    "    file.write(doc.text)"
   ]
  },
  {
   "cell_type": "code",
   "execution_count": null,
   "metadata": {
    "id": "0ZatB1zb3mh6"
   },
   "outputs": [],
   "source": []
  }
 ],
 "metadata": {
  "colab": {
   "provenance": [
    {
     "file_id": "1P-XpCEt4QaLN7PQk-d1irliWBsVYMQl5",
     "timestamp": 1742694418635
    },
    {
     "file_id": "18KB9yXxDUeQGrEZEP1eCrXQ0dNB-Oazm",
     "timestamp": 1719347434339
    }
   ]
  },
  "kernelspec": {
   "display_name": "Python 3 (ipykernel)",
   "language": "python",
   "name": "python3"
  },
  "language_info": {
   "codemirror_mode": {
    "name": "ipython",
    "version": 3
   },
   "file_extension": ".py",
   "mimetype": "text/x-python",
   "name": "python",
   "nbconvert_exporter": "python",
   "pygments_lexer": "ipython3",
   "version": "3.11.11"
  }
 },
 "nbformat": 4,
 "nbformat_minor": 4
}
