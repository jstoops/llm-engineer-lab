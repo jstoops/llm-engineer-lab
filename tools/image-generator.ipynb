{
 "cells": [
  {
   "cell_type": "markdown",
   "id": "ddfa9ae6-69fe-444a-b994-8c4c5970a7ec",
   "metadata": {},
   "source": [
    "Image Generator\n",
    "===============\n",
    "\n",
    "An AI assistant using DALL-E-2 or DALL-E-3 for the image generation.\n",
    "\n",
    "# Dependencies"
   ]
  },
  {
   "cell_type": "code",
   "execution_count": null,
   "id": "8b50bbe2-c0b1-49c3-9a5c-1ba7efa2bcb4",
   "metadata": {},
   "outputs": [],
   "source": [
    "# imports\n",
    "\n",
    "import os\n",
    "import json\n",
    "from dotenv import load_dotenv\n",
    "from openai import OpenAI\n",
    "import gradio as gr\n",
    "import base64\n",
    "from io import BytesIO\n",
    "from PIL import Image\n",
    "from IPython.display import display"
   ]
  },
  {
   "cell_type": "code",
   "execution_count": null,
   "id": "747e8786-9da8-4342-b6c9-f5f69c2e22ae",
   "metadata": {},
   "outputs": [],
   "source": [
    "# Initialization\n",
    "\n",
    "output_path = \"image.webp\"\n",
    "\n",
    "load_dotenv(override=True)\n",
    "\n",
    "openai_api_key = os.getenv('OPENAI_API_KEY')\n",
    "if openai_api_key:\n",
    "    print(f\"OpenAI API Key exists and begins {openai_api_key[:8]}\")\n",
    "else:\n",
    "    print(\"OpenAI API Key not set\")\n",
    "    \n",
    "MODEL = \"dall-e-3\"\n",
    "# MODEL = \"dall-e-2\"\n",
    "\n",
    "openai = OpenAI()"
   ]
  },
  {
   "cell_type": "markdown",
   "id": "174b47f7-e207-4955-9a94-6aaed7918ffd",
   "metadata": {},
   "source": [
    "# Image Generation"
   ]
  },
  {
   "cell_type": "code",
   "execution_count": null,
   "id": "f9fb4611",
   "metadata": {},
   "outputs": [],
   "source": [
    "def artist(image_prompt, image_size):\n",
    "    image_response = openai.images.generate(\n",
    "            model=MODEL,\n",
    "            prompt=image_prompt,\n",
    "            size=image_size,\n",
    "            n=1,\n",
    "            response_format=\"b64_json\",\n",
    "        )\n",
    "    image_base64 = image_response.data[0].b64_json\n",
    "    image_data = base64.b64decode(image_base64)\n",
    "    save_base64_to_webp(image_base64, output_path)\n",
    "    return Image.open(BytesIO(image_data))\n",
    "\n",
    "def save_base64_to_webp(base64_string, output_path):\n",
    "    \"\"\"\n",
    "    Decodes a base64 string and saves it as a WebP image.\n",
    "\n",
    "    Args:\n",
    "        base64_string: The base64 encoded image data.\n",
    "        output_path: The path to save the WebP image.\n",
    "    \"\"\"\n",
    "    try:\n",
    "        image_data = base64.b64decode(base64_string)\n",
    "        image = Image.open(BytesIO(image_data))\n",
    "        image.save(output_path, \"webp\")\n",
    "        print(f\"Image saved as {output_path}\")\n",
    "    except Exception as e:\n",
    "        print(f\"Error saving image: {e}\")"
   ]
  },
  {
   "cell_type": "code",
   "execution_count": null,
   "id": "72fc3008",
   "metadata": {},
   "outputs": [],
   "source": [
    "# Gradio code for non-preset Chat interface\n",
    "sample_image_prompt=\"An image representing a vacation in London, showing tourist spots and everything unique about London, in a vibrant pop-art style\"\n",
    "    \n",
    "with gr.Blocks() as ui:\n",
    "    gr.Markdown(\"## Create Image\")\n",
    "    with gr.Row():\n",
    "        image_prompt = gr.Textbox(label=\"Image prompt:\", value=sample_image_prompt, lines=21)\n",
    "        image_output = gr.Image(height=500)\n",
    "    with gr.Row():\n",
    "        if MODEL == \"dall-e-2\":\n",
    "            size = gr.Dropdown([\"256x256\", \"512x512\", \"1024x1024\"], label=\"Select size\", value=\"1024x1024\")\n",
    "        else:\n",
    "            size = gr.Dropdown([\"1024x1024\", \"1024x1792\", \"1792x1024\"], label=\"Select size\", value=\"1024x1024\")\n",
    "        create = gr.Button(\"Generate image\", value=output_path, visible=True)\n",
    "\n",
    "    create.click(artist, inputs=[image_prompt, size], outputs=[image_output])\n",
    "\n",
    "ui.launch(inbrowser=True)"
   ]
  },
  {
   "cell_type": "code",
   "execution_count": null,
   "id": "b3c4c81d-ed6e-4893-8dfd-c2406b993c73",
   "metadata": {},
   "outputs": [],
   "source": []
  }
 ],
 "metadata": {
  "kernelspec": {
   "display_name": "Python 3 (ipykernel)",
   "language": "python",
   "name": "python3"
  },
  "language_info": {
   "codemirror_mode": {
    "name": "ipython",
    "version": 3
   },
   "file_extension": ".py",
   "mimetype": "text/x-python",
   "name": "python",
   "nbconvert_exporter": "python",
   "pygments_lexer": "ipython3",
   "version": "3.11.11"
  }
 },
 "nbformat": 4,
 "nbformat_minor": 5
}
