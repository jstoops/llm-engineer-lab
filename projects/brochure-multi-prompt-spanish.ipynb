{
 "cells": [
  {
   "cell_type": "markdown",
   "id": "a98030af-fcd1-4d63-a36e-38ba053498fa",
   "metadata": {},
   "source": [
    "# AI-Powered Marketing Brochures\n",
    "## Business Problem\n",
    "\n",
    "Create a product that can gernate marketing brochures about a company in multiple languages\n",
    "- For prospective clients\n",
    "- For investors\n",
    "- For recruitment\n",
    "\n",
    "The technology\n",
    "- Use OpenAI API\n",
    "- Use one-shot prompting (with one example) then add multi-shot to refine it\n",
    "- Stream back results and show with formatting"
   ]
  },
  {
   "cell_type": "code",
   "execution_count": 1,
   "id": "d5b08506-dc8b-4443-9201-5f1848161363",
   "metadata": {},
   "outputs": [],
   "source": [
    "# imports\n",
    "# If these fail, please check you're running from an 'activated' environment with (llms) in the command prompt\n",
    "\n",
    "import os\n",
    "import requests\n",
    "import json\n",
    "from typing import List\n",
    "from dotenv import load_dotenv\n",
    "from bs4 import BeautifulSoup\n",
    "from IPython.display import Markdown, display, update_display\n",
    "from openai import OpenAI\n",
    "import anthropic"
   ]
  },
  {
   "cell_type": "code",
   "execution_count": 2,
   "id": "fc5d8880-f2ee-4c06-af16-ecbc0262af61",
   "metadata": {},
   "outputs": [
    {
     "name": "stdout",
     "output_type": "stream",
     "text": [
      "API key looks good so far\n",
      "Anthropic API Key exists and begins sk-ant-\n"
     ]
    }
   ],
   "source": [
    "# Initialize and constants\n",
    "\n",
    "load_dotenv(override=True)\n",
    "api_key = os.getenv('OPENAI_API_KEY')\n",
    "anthropic_api_key = os.getenv('ANTHROPIC_API_KEY')\n",
    "\n",
    "if api_key and api_key.startswith('sk-proj-') and len(api_key)>10:\n",
    "    print(\"API key looks good so far\")\n",
    "else:\n",
    "    print(\"There might be a problem with your API key? Please visit the troubleshooting notebook!\")\n",
    "\n",
    "if anthropic_api_key:\n",
    "    print(f\"Anthropic API Key exists and begins {anthropic_api_key[:7]}\")\n",
    "else:\n",
    "    print(\"Anthropic API Key not set\")\n",
    "    \n",
    "MODEL = 'gpt-4o-mini'\n",
    "openai = OpenAI()\n",
    "\n",
    "claude = anthropic.Anthropic()"
   ]
  },
  {
   "cell_type": "code",
   "execution_count": 3,
   "id": "106dd65e-90af-4ca8-86b6-23a41840645b",
   "metadata": {},
   "outputs": [],
   "source": [
    "# A class to represent a Webpage\n",
    "\n",
    "# Some websites need you to use proper headers when fetching them:\n",
    "headers = {\n",
    " \"User-Agent\": \"Mozilla/5.0 (Windows NT 10.0; Win64; x64) AppleWebKit/537.36 (KHTML, like Gecko) Chrome/117.0.0.0 Safari/537.36\"\n",
    "}\n",
    "\n",
    "class Website:\n",
    "    \"\"\"\n",
    "    A utility class to represent a Website that we have scraped, now with links\n",
    "    \"\"\"\n",
    "\n",
    "    def __init__(self, url):\n",
    "        self.url = url\n",
    "        response = requests.get(url, headers=headers)\n",
    "        self.body = response.content\n",
    "        soup = BeautifulSoup(self.body, 'html.parser')\n",
    "        self.title = soup.title.string if soup.title else \"No title found\"\n",
    "        if soup.body:\n",
    "            for irrelevant in soup.body([\"script\", \"style\", \"img\", \"input\"]):\n",
    "                irrelevant.decompose()\n",
    "            self.text = soup.body.get_text(separator=\"\\n\", strip=True)\n",
    "        else:\n",
    "            self.text = \"\"\n",
    "        links = [link.get('href') for link in soup.find_all('a')]\n",
    "        self.links = [link for link in links if link]\n",
    "\n",
    "    def get_contents(self):\n",
    "        return f\"Webpage Title:\\n{self.title}\\nWebpage Contents:\\n{self.text}\\n\\n\""
   ]
  },
  {
   "cell_type": "markdown",
   "id": "1771af9c-717a-4fca-bbbe-8a95893312c3",
   "metadata": {},
   "source": [
    "## Link prompts\n",
    "### Multi-shot system prompt"
   ]
  },
  {
   "cell_type": "code",
   "execution_count": 4,
   "id": "6957b079-0d96-45f7-a26a-3487510e9b35",
   "metadata": {},
   "outputs": [],
   "source": [
    "link_system_prompt = \"You are provided with a list of links found on a webpage. \\\n",
    "You are able to decide which of the links would be most relevant to include in a brochure about the company, \\\n",
    "such as links to an About page, or a Company page, or Careers/Jobs pages.\\n\"\n",
    "link_system_prompt += \"You should respond in JSON as in these examples:\"\n",
    "link_system_prompt += \"\"\"\n",
    "Example 1\n",
    "['https://my-company.com', 'https://my-company.com/about-me', 'https://www.linkedin.com/in/my-company/', 'mailto:joe.blog@gmail.com', 'https://my-company.com/news', '/case-studies', 'https://patents.google.com/patent/US20210049536A1/', 'https://my-company.com/workshop-ai']\n",
    "\n",
    "    Links:\n",
    "{\n",
    "    \"links\": [\n",
    "        {\"type\": \"landing page\", \"url\": \"https://great-comps.com/about-me\"},\n",
    "        {\"type\": \"about page\", \"url\": \"https://great-comps.com/about-me\"},\n",
    "        {\"type\": \"news page\": \"url\": \"https://great-comps.com/news\"},\n",
    "        {\"type\": \"case studies page\": \"url\": \"https://great-comps.com/case-studies\"},\n",
    "        {\"type\": \"workshop page\": \"url\": \"https://great-comps.com/workshop-ai\"},\n",
    "    ]\n",
    "}\n",
    "Example 2\n",
    "['https://www.acmeinc.com', '/#about', '/#projects', '/#experience', '/#skills', 'https://github.com/acmeinc']\n",
    "\n",
    "    Links:\n",
    "{\n",
    "    \"links\": [\n",
    "        {\"type\": \"landing page\", \"url\": \"https://www.acmeinc.com\"},\n",
    "        {\"type\": \"GitHub projects\": \"url\": \"https://github.com/acmeinc\"},\n",
    "    ]\n",
    "}\n",
    "\"\"\""
   ]
  },
  {
   "cell_type": "code",
   "execution_count": null,
   "id": "b97e4068-97ed-4120-beae-c42105e4d59a",
   "metadata": {},
   "outputs": [],
   "source": [
    "print(link_system_prompt)"
   ]
  },
  {
   "cell_type": "markdown",
   "id": "baf384bb-4577-4885-a445-dc8da232b1d9",
   "metadata": {},
   "source": [
    "### User prompt"
   ]
  },
  {
   "cell_type": "markdown",
   "id": "51174859-666a-43ad-9c34-5f082298d398",
   "metadata": {},
   "source": [
    "## Get links"
   ]
  },
  {
   "cell_type": "code",
   "execution_count": 5,
   "id": "8e1f601b-2eaf-499d-b6b8-c99050c9d6b3",
   "metadata": {},
   "outputs": [],
   "source": [
    "def get_links_user_prompt(website):\n",
    "    user_prompt = f\"Here is the list of links on the website of {website.url} - \"\n",
    "    user_prompt += \"please decide which of these are relevant web links for a brochure about the company, respond with the full https URL in JSON format. \\\n",
    "Do not include Terms of Service, Privacy, email links.\\n\"\n",
    "    user_prompt += \"Links (some might be relative links):\\n\"\n",
    "    user_prompt += \"\\n\".join(website.links)\n",
    "    return user_prompt"
   ]
  },
  {
   "cell_type": "code",
   "execution_count": 6,
   "id": "a29aca19-ca13-471c-a4b4-5abbfa813f69",
   "metadata": {},
   "outputs": [],
   "source": [
    "def get_links(url):\n",
    "    website = Website(url)\n",
    "    response = openai.chat.completions.create(\n",
    "        model=MODEL,\n",
    "        messages=[\n",
    "            {\"role\": \"system\", \"content\": link_system_prompt},\n",
    "            {\"role\": \"user\", \"content\": get_links_user_prompt(website)}\n",
    "      ],\n",
    "        response_format={\"type\": \"json_object\"}\n",
    "    )\n",
    "    result = response.choices[0].message.content\n",
    "    return json.loads(result)"
   ]
  },
  {
   "cell_type": "markdown",
   "id": "0d74128e-dfb6-47ec-9549-288b621c838c",
   "metadata": {},
   "source": [
    "## Create brochure"
   ]
  },
  {
   "cell_type": "code",
   "execution_count": 7,
   "id": "85a5b6e2-e7ef-44a9-bc7f-59ede71037b5",
   "metadata": {},
   "outputs": [],
   "source": [
    "def get_all_details(url):\n",
    "    result = \"Landing page:\\n\"\n",
    "    result += Website(url).get_contents()\n",
    "    links = get_links(url)\n",
    "    print(\"Found links:\", links)\n",
    "    for link in links[\"links\"]:\n",
    "        result += f\"\\n\\n{link['type']}\\n\"\n",
    "        result += Website(link[\"url\"]).get_contents()\n",
    "    return result"
   ]
  },
  {
   "cell_type": "markdown",
   "id": "4b4d8ec1-4855-4c0e-afc0-33055e6b0a6d",
   "metadata": {},
   "source": [
    "### System prompt"
   ]
  },
  {
   "cell_type": "code",
   "execution_count": 8,
   "id": "9b863a55-f86c-4e3f-8a79-94e24c1a8cf2",
   "metadata": {},
   "outputs": [],
   "source": [
    "# system_prompt = \"You are an assistant that analyzes the contents of several relevant pages from a company website \\\n",
    "# and creates a short brochure about the company for prospective customers, investors and recruits. Respond in markdown.\\\n",
    "# Include details of company culture, customers and careers/jobs if you have the information.\"\n",
    "\n",
    "# Or uncomment the lines below for a more humorous brochure - this demonstrates how easy it is to incorporate 'tone':\n",
    "\n",
    "# system_prompt = \"You are an assistant that analyzes the contents of several relevant pages from a company website \\\n",
    "# and creates a short humorous, entertaining, jokey brochure about the company for prospective customers, investors and recruits. Respond in markdown.\\\n",
    "# Include details of company culture, customers and careers/jobs if you have the information.\"\n",
    "\n",
    "system_prompt = \"You are an assistant that analyzes the contents of several relevant pages from a company website \\\n",
    "and creates a short brochure about the company for prospective customers, investors and recruits. Respond in markdown.\\\n",
    "Include details of company culture, customers and careers/jobs if you have the information.\"\n"
   ]
  },
  {
   "cell_type": "markdown",
   "id": "c5766318-97cc-4442-bb9f-fa8c6998777e",
   "metadata": {},
   "source": [
    "### User prompt"
   ]
  },
  {
   "cell_type": "markdown",
   "id": "d6e224b2-8ab0-476e-96c3-42763ad21f25",
   "metadata": {},
   "source": [
    "#### Generate brochure in English"
   ]
  },
  {
   "cell_type": "code",
   "execution_count": 9,
   "id": "6ab83d92-d36b-4ce0-8bcc-5bb4c2f8ff23",
   "metadata": {},
   "outputs": [],
   "source": [
    "def get_brochure_user_prompt(company_name, url):\n",
    "    user_prompt = f\"You are looking at a company called: {company_name}\\n\"\n",
    "    user_prompt += f\"Here are the contents of its landing page and other relevant pages; use this information to build a short brochure of the company in markdown.\\n\"\n",
    "    user_prompt += get_all_details(url)\n",
    "    user_prompt = user_prompt[:5_000] # Truncate if more than 5,000 characters\n",
    "    return user_prompt"
   ]
  },
  {
   "cell_type": "code",
   "execution_count": 10,
   "id": "e44de579-4a1a-4e6a-a510-20ea3e4b8d46",
   "metadata": {},
   "outputs": [],
   "source": [
    "def create_brochure(company_name, url):\n",
    "    response = openai.chat.completions.create(\n",
    "        model=MODEL,\n",
    "        messages=[\n",
    "            {\"role\": \"system\", \"content\": system_prompt},\n",
    "            {\"role\": \"user\", \"content\": get_brochure_user_prompt(company_name, url)}\n",
    "          ],\n",
    "    )\n",
    "    result = response.choices[0].message.content\n",
    "    display(Markdown(result))\n",
    "    return result"
   ]
  },
  {
   "cell_type": "code",
   "execution_count": 13,
   "id": "e093444a-9407-42ae-924a-145730591a39",
   "metadata": {},
   "outputs": [
    {
     "name": "stdout",
     "output_type": "stream",
     "text": [
      "Found links: {'links': [{'type': 'landing page', 'url': 'https://huggingface.co'}, {'type': 'about page', 'url': 'https://huggingface.co/about'}, {'type': 'models page', 'url': 'https://huggingface.co/models'}, {'type': 'datasets page', 'url': 'https://huggingface.co/datasets'}, {'type': 'spaces page', 'url': 'https://huggingface.co/spaces'}, {'type': 'enterprise page', 'url': 'https://huggingface.co/enterprise'}, {'type': 'pricing page', 'url': 'https://huggingface.co/pricing'}, {'type': 'docs page', 'url': 'https://huggingface.co/docs'}, {'type': 'blog page', 'url': 'https://huggingface.co/blog'}, {'type': 'GitHub page', 'url': 'https://github.com/huggingface'}, {'type': 'LinkedIn page', 'url': 'https://www.linkedin.com/company/huggingface'}, {'type': 'Twitter page', 'url': 'https://twitter.com/huggingface'}, {'type': 'community forum', 'url': 'https://discuss.huggingface.co'}, {'type': 'status page', 'url': 'https://status.huggingface.co'}]}\n"
     ]
    },
    {
     "data": {
      "text/markdown": [
       "# Hugging Face Brochure\n",
       "\n",
       "## Welcome to Hugging Face\n",
       "**The AI Community Building the Future**  \n",
       "Hugging Face is a dynamic platform at the forefront of the machine learning community, fostering collaboration on models, datasets, and innovative applications. Join us to explore over **1 million models** and engage with a passionate community dedicated to accelerating AI development.\n",
       "\n",
       "---\n",
       "\n",
       "## What We Offer\n",
       "\n",
       "### Collaborate & Innovate\n",
       "Hugging Face is the go-to platform for machine learning enthusiasts and professionals alike. \n",
       "- **Models**: Browse through a vast collection of the latest AI models.\n",
       "- **Datasets**: Access over **250,000 datasets** tailored for various ML tasks.\n",
       "- **Spaces**: Create and share applications effortlessly.\n",
       "\n",
       "### Cutting-edge Technology\n",
       "Utilize our **HF Open Source stack** to enhance your projects across text, image, video, audio, and even 3D modalities. Take advantage of our state-of-the-art libraries like:\n",
       "- **Transformers:** Advanced ML for PyTorch, TensorFlow, and JAX.\n",
       "- **Diffusers:** Leading diffusion models.\n",
       "- **Tokenizers:** Fast tokenizers optimized for research and production.\n",
       "\n",
       "---\n",
       "\n",
       "## Our Customers\n",
       "With over **50,000 organizations** using our platform, we empower both small startups and Fortune 500 companies, including:\n",
       "- **Meta**\n",
       "- **Amazon**\n",
       "- **Google**\n",
       "- **Microsoft**\n",
       "- **Grammarly**\n",
       "\n",
       "Our solutions cater to enterprises seeking advanced platforms with robust security and dedicated support, starting at **$20/user/month**.\n",
       "\n",
       "---\n",
       "\n",
       "## Company Culture\n",
       "At Hugging Face, we value collaboration, openness, and innovation. Our inclusive culture fosters creativity and encourages team members to contribute and share their ideas. We believe in building a supportive environment where everyone can learn and grow together, embedded in the vibrant AI community.\n",
       "\n",
       "---\n",
       "\n",
       "## Careers at Hugging Face\n",
       "We are always on the lookout for talented individuals to join our team. If you are passionate about machine learning, technology, and collaboration, consider a career with us. We offer:\n",
       "- A dynamic work culture that promotes innovation\n",
       "- Opportunities for professional development \n",
       "- A chance to be part of a community that is shaping the future of AI\n",
       "\n",
       "Explore current job openings on our [Jobs Page](#).\n",
       "\n",
       "---\n",
       "\n",
       "## Join Us Today\n",
       "Are you ready to be part of the AI revolution? Sign up now to start collaborating, innovating, and building on Hugging Face.\n",
       "\n",
       "[Explore AI Apps](#) | [Sign Up](#)\n",
       "\n",
       "#### Connect With Us\n",
       "- [GitHub](#)\n",
       "- [Twitter](#)\n",
       "- [LinkedIn](#)\n",
       "- [Discord](#)\n",
       "\n",
       "---\n",
       "\n",
       "**Hugging Face – Your Partner in Building the Future of AI.**"
      ],
      "text/plain": [
       "<IPython.core.display.Markdown object>"
      ]
     },
     "metadata": {},
     "output_type": "display_data"
    }
   ],
   "source": [
    "brochure_text = create_brochure(\"HuggingFace\", \"https://huggingface.co\")"
   ]
  },
  {
   "cell_type": "markdown",
   "id": "30415c72-d26a-454e-8900-f584977aca96",
   "metadata": {},
   "source": [
    "#### Translate brochure to another language"
   ]
  },
  {
   "cell_type": "code",
   "execution_count": 11,
   "id": "2331eb34-12bf-4e88-83f9-a48d97cc83ec",
   "metadata": {},
   "outputs": [],
   "source": [
    "translation_sys_prompt = \"You are a language translator who is very good at translating business documents from \\\n",
    "English to any language. You preserve the formatting, tone and facts contained in the document.\"\n",
    "\n",
    "def translate_brochure(brochure, language):\n",
    "    response = openai.chat.completions.create(\n",
    "        model=MODEL,\n",
    "        messages=[\n",
    "            {\"role\": \"system\", \"content\": translation_sys_prompt},\n",
    "            {\"role\": \"user\", \"content\": f\"Translate the following document into {language}: {brochure}\"}\n",
    "          ],\n",
    "    )\n",
    "    result = response.choices[0].message.content\n",
    "    display(Markdown(result))"
   ]
  },
  {
   "cell_type": "code",
   "execution_count": 14,
   "id": "112beb4d-984b-4162-8d36-8cef79c351cc",
   "metadata": {},
   "outputs": [
    {
     "data": {
      "text/markdown": [
       "# Folleto de Hugging Face\n",
       "\n",
       "## Bienvenido a Hugging Face\n",
       "**La Comunidad de IA que Está Construyendo el Futuro**  \n",
       "Hugging Face es una plataforma dinámica a la vanguardia de la comunidad de aprendizaje automático, promoviendo la colaboración en modelos, conjuntos de datos y aplicaciones innovadoras. Únete a nosotros para explorar más de **1 millón de modelos** y participar en una comunidad apasionada dedicada a acelerar el desarrollo de la IA.\n",
       "\n",
       "---\n",
       "\n",
       "## Lo Que Ofrecemos\n",
       "\n",
       "### Colabora e Innova\n",
       "Hugging Face es la plataforma preferida para entusiastas y profesionales del aprendizaje automático.  \n",
       "- **Modelos**: Navega a través de una vasta colección de los últimos modelos de IA.\n",
       "- **Conjuntos de datos**: Accede a más de **250,000 conjuntos de datos** diseñados para diversas tareas de aprendizaje automático.\n",
       "- **Espacios**: Crea y comparte aplicaciones sin esfuerzo.\n",
       "\n",
       "### Tecnología de Punta\n",
       "Utiliza nuestro **stack de código abierto de HF** para mejorar tus proyectos en modalidades de texto, imagen, video, audio e incluso 3D. Aprovecha nuestras bibliotecas de última generación como:\n",
       "- **Transformers:** Aprendizaje automático avanzado para PyTorch, TensorFlow y JAX.\n",
       "- **Diffusers:** Modelos de difusión líderes.\n",
       "- **Tokenizers:** Tokenizadores rápidos optimizados para investigación y producción.\n",
       "\n",
       "---\n",
       "\n",
       "## Nuestros Clientes\n",
       "Con más de **50,000 organizaciones** utilizando nuestra plataforma, empoderamos tanto a pequeñas startups como a empresas de Fortune 500, incluyendo:\n",
       "- **Meta**\n",
       "- **Amazon**\n",
       "- **Google**\n",
       "- **Microsoft**\n",
       "- **Grammarly**\n",
       "\n",
       "Nuestras soluciones están dirigidas a empresas que buscan plataformas avanzadas con robusta seguridad y soporte dedicado, a partir de **$20/usuario/mes**.\n",
       "\n",
       "---\n",
       "\n",
       "## Cultura Empresarial\n",
       "En Hugging Face, valoramos la colaboración, apertura e innovación. Nuestra cultura inclusiva fomenta la creatividad y anima a los miembros del equipo a contribuir y compartir sus ideas. Creemos en construir un ambiente de apoyo donde todos pueden aprender y crecer juntos, inmersos en la vibrante comunidad de IA.\n",
       "\n",
       "---\n",
       "\n",
       "## Carreras en Hugging Face\n",
       "Siempre estamos buscando individuos talentosos para unirse a nuestro equipo. Si sientes pasión por el aprendizaje automático, la tecnología y la colaboración, considera una carrera con nosotros. Ofrecemos:\n",
       "- Una cultura de trabajo dinámica que promueve la innovación\n",
       "- Oportunidades para el desarrollo profesional \n",
       "- La oportunidad de ser parte de una comunidad que está moldeando el futuro de la IA\n",
       "\n",
       "Explora las ofertas de trabajo actuales en nuestra [Página de Empleos](#).\n",
       "\n",
       "---\n",
       "\n",
       "## Únete a Nosotros Hoy\n",
       "¿Estás listo para ser parte de la revolución de la IA? Regístrate ahora para comenzar a colaborar, innovar y construir en Hugging Face.\n",
       "\n",
       "[Explorar Aplicaciones de IA](#) | [Regístrate](#)\n",
       "\n",
       "#### Conéctate Con Nosotros\n",
       "- [GitHub](#)\n",
       "- [Twitter](#)\n",
       "- [LinkedIn](#)\n",
       "- [Discord](#)\n",
       "\n",
       "---\n",
       "\n",
       "**Hugging Face – Tu Socio en la Construcción del Futuro de la IA.**"
      ],
      "text/plain": [
       "<IPython.core.display.Markdown object>"
      ]
     },
     "metadata": {},
     "output_type": "display_data"
    }
   ],
   "source": [
    "translate_brochure(brochure_text, \"Spanish\")"
   ]
  },
  {
   "cell_type": "markdown",
   "id": "36612f20-66c7-4cde-9005-c18a86b7e0a6",
   "metadata": {},
   "source": [
    "## Stream output\n",
    "\n",
    "Results stream back from OpenAI with the familiar typewriter animation"
   ]
  },
  {
   "cell_type": "code",
   "execution_count": null,
   "id": "523896a3-fcfb-4652-8276-7e0901d33c59",
   "metadata": {},
   "outputs": [],
   "source": [
    "def stream_brochure(company_name, url):\n",
    "    stream = openai.chat.completions.create(\n",
    "        model=MODEL,\n",
    "        messages=[\n",
    "            {\"role\": \"system\", \"content\": system_prompt},\n",
    "            {\"role\": \"user\", \"content\": get_brochure_user_prompt(company_name, url)}\n",
    "          ],\n",
    "        stream=True\n",
    "    )\n",
    "    \n",
    "    response = \"\"\n",
    "    display_handle = display(Markdown(\"\"), display_id=True)\n",
    "    for chunk in stream:\n",
    "        response += chunk.choices[0].delta.content or ''\n",
    "        response = response.replace(\"```\",\"\").replace(\"markdown\", \"\")\n",
    "        update_display(Markdown(response), display_id=display_handle.display_id)"
   ]
  },
  {
   "cell_type": "code",
   "execution_count": null,
   "id": "2da1e0b6-2bcb-4500-9a7c-2c9a048fce54",
   "metadata": {},
   "outputs": [],
   "source": [
    "stream_brochure(\"HuggingFace\", \"https://huggingface.co\")"
   ]
  },
  {
   "cell_type": "markdown",
   "id": "723a2014-735c-4e63-a4b2-f9637e482a7d",
   "metadata": {},
   "source": [
    "## Chat UI\n",
    "\n",
    "Build User Interface using the Gradio framework."
   ]
  },
  {
   "cell_type": "code",
   "execution_count": null,
   "id": "ad4f0743-6ecb-443e-aa83-4ad1d42b081c",
   "metadata": {},
   "outputs": [],
   "source": [
    "import gradio as gr"
   ]
  },
  {
   "cell_type": "code",
   "execution_count": null,
   "id": "c68d04ba-d0c5-4c3a-8886-3e789f0320e2",
   "metadata": {},
   "outputs": [],
   "source": [
    "system_message = \"You are an assistant that analyzes the contents of a company website landing page \\\n",
    "and creates a short brochure about the company for prospective customers, investors and recruits. Respond in markdown.\"\n",
    "\n",
    "def stream_gpt(prompt):\n",
    "    messages = [\n",
    "        {\"role\": \"system\", \"content\": system_message},\n",
    "        {\"role\": \"user\", \"content\": prompt}\n",
    "      ]\n",
    "    stream = openai.chat.completions.create(\n",
    "        model='gpt-4o-mini',\n",
    "        messages=messages,\n",
    "        stream=True\n",
    "    )\n",
    "    result = \"\"\n",
    "    for chunk in stream:\n",
    "        result += chunk.choices[0].delta.content or \"\"\n",
    "        yield result\n",
    "        \n",
    "def stream_claude(prompt):\n",
    "    result = claude.messages.stream(\n",
    "        model=\"claude-3-haiku-20240307\",\n",
    "        max_tokens=1000,\n",
    "        temperature=0.7,\n",
    "        system=system_message,\n",
    "        messages=[\n",
    "            {\"role\": \"user\", \"content\": prompt},\n",
    "        ],\n",
    "    )\n",
    "    response = \"\"\n",
    "    with result as stream:\n",
    "        for text in stream.text_stream:\n",
    "            response += text or \"\"\n",
    "            yield response\n",
    "\n",
    "class Website:\n",
    "    url: str\n",
    "    title: str\n",
    "    text: str\n",
    "\n",
    "    def __init__(self, url):\n",
    "        self.url = url\n",
    "        response = requests.get(url)\n",
    "        self.body = response.content\n",
    "        soup = BeautifulSoup(self.body, 'html.parser')\n",
    "        self.title = soup.title.string if soup.title else \"No title found\"\n",
    "        for irrelevant in soup.body([\"script\", \"style\", \"img\", \"input\"]):\n",
    "            irrelevant.decompose()\n",
    "        self.text = soup.body.get_text(separator=\"\\n\", strip=True)\n",
    "\n",
    "    def get_contents(self):\n",
    "        return f\"Webpage Title:\\n{self.title}\\nWebpage Contents:\\n{self.text}\\n\\n\"\n",
    "\n",
    "def stream_brochure(company_name, url, model):\n",
    "    prompt = f\"Please generate a company brochure for {company_name}. Here is their landing page:\\n\"\n",
    "    prompt += Website(url).get_contents()\n",
    "    if model==\"GPT\":\n",
    "        result = stream_gpt(prompt)\n",
    "    elif model==\"Claude\":\n",
    "        result = stream_claude(prompt)\n",
    "    else:\n",
    "        raise ValueError(\"Unknown model\")\n",
    "    yield from result\n",
    "\n",
    "view = gr.Interface(\n",
    "    fn=stream_brochure,\n",
    "    inputs=[\n",
    "        gr.Textbox(label=\"Company name:\"),\n",
    "        gr.Textbox(label=\"Landing page URL including http:// or https://\"),\n",
    "        gr.Dropdown([\"GPT\", \"Claude\"], label=\"Select model\")],\n",
    "    outputs=[gr.Markdown(label=\"Brochure:\")],\n",
    "    flagging_mode=\"never\"\n",
    ")\n",
    "view.launch()"
   ]
  },
  {
   "cell_type": "code",
   "execution_count": null,
   "id": "6bae81be-ecdc-40c0-8010-3643f0ca2fb7",
   "metadata": {},
   "outputs": [],
   "source": []
  }
 ],
 "metadata": {
  "kernelspec": {
   "display_name": "Python 3 (ipykernel)",
   "language": "python",
   "name": "python3"
  },
  "language_info": {
   "codemirror_mode": {
    "name": "ipython",
    "version": 3
   },
   "file_extension": ".py",
   "mimetype": "text/x-python",
   "name": "python",
   "nbconvert_exporter": "python",
   "pygments_lexer": "ipython3",
   "version": "3.11.11"
  }
 },
 "nbformat": 4,
 "nbformat_minor": 5
}
